{
 "cells": [
  {
   "cell_type": "code",
   "execution_count": 1,
   "metadata": {},
   "outputs": [
    {
     "name": "stderr",
     "output_type": "stream",
     "text": [
      "C:\\Users\\wmelville\\Anaconda3\\lib\\site-packages\\pandas\\core\\computation\\expressions.py:20: UserWarning: Pandas requires version '2.7.3' or newer of 'numexpr' (version '2.7.1' currently installed).\n",
      "  from pandas.core.computation.check import NUMEXPR_INSTALLED\n"
     ]
    }
   ],
   "source": [
    "import numpy as np\n",
    "import pandas as pd\n",
    "from matplotlib import pyplot as plt\n",
    "import statsapi\n",
    "import glob\n",
    "import tqdm\n",
    "import pybaseball\n",
    "pd.set_option('display.max_columns', None)"
   ]
  },
  {
   "cell_type": "code",
   "execution_count": 2,
   "metadata": {},
   "outputs": [],
   "source": [
    "#define bo_states. The main thing this affects is the index. We want to be consistent, meaning index 4 should \n",
    "#always be '1___-0'\n",
    "bo_states = ['___-0', '__3-0', '_2_-0', '_23-0', '1__-0', '1_3-0', '12_-0',\n",
    "       '123-0', '___-1', '__3-1', '_2_-1', '_23-1', '1__-1', '1_3-1',\n",
    "       '12_-1', '123-1', '___-2', '__3-2', '_2_-2', '_23-2', '1__-2',\n",
    "       '1_3-2', '12_-2', '123-2']"
   ]
  },
  {
   "cell_type": "code",
   "execution_count": 3,
   "metadata": {},
   "outputs": [],
   "source": [
    "#get the game_pks scraped by Caleb/Tristan\n",
    "game_files = glob.glob('../baseball-scraping/games/*.csv')\n",
    "gamepks = [int(game.split('_')[1]) for game in game_files]"
   ]
  },
  {
   "cell_type": "code",
   "execution_count": 4,
   "metadata": {},
   "outputs": [],
   "source": [
    "#this dictionary stores player info so we save time not having to ping the api for a player if we already have\n",
    "pinged_players = dict()"
   ]
  },
  {
   "cell_type": "code",
   "execution_count": 5,
   "metadata": {},
   "outputs": [
    {
     "name": "stderr",
     "output_type": "stream",
     "text": [
      "100%|██████████████████████████████████████████████████████████████████████████████| 2425/2425 [31:43<00:00,  1.27it/s]\n"
     ]
    }
   ],
   "source": [
    "def get_roster_info(gamepk):\n",
    "    plays = pd.read_csv(f'../baseball-scraping/games/game_{gamepk}_decisions.csv').sort_values(by = 'At_Bat')\n",
    "    if plays.shape[0] == 0:\n",
    "        return pd.DataFrame()\n",
    "    #define the baserunner out state in the format I use \n",
    "    plays['thirdbase'] = '_'\n",
    "    plays.loc[np.isnan(plays.Third_Base) == False, 'thirdbase'] = '3'\n",
    "    plays['secondbase'] = '_'\n",
    "    plays.loc[np.isnan(plays.Second_Base) == False, 'secondbase'] = '2'\n",
    "    plays['firstbase'] = '_'\n",
    "    plays.loc[np.isnan(plays.First_Base) == False, 'firstbase'] = '1'\n",
    "    plays['bo_state'] = plays.firstbase + plays.secondbase + plays.thirdbase + '-' + plays.Outs.astype(str)\n",
    "\n",
    "    #we need the teams and rosters from the stats api. Note the format I end up with may not be the most efficient\n",
    "    #I could probably just leave things in the dictionaries, but I'm copying the format I got with the internal Rangers\n",
    "    #data so that I can copy and paste code\n",
    "    sapi_game = statsapi.get('game', {'gamePk': gamepk})\n",
    "    game_type = sapi_game['gameData']['game']['type']\n",
    "    if game_type == 'S' or game_type == 'E':\n",
    "        raise ValueError('Bad Game Type')\n",
    "    game_date = sapi_game['gameData']['datetime']['officialDate']\n",
    "    away_team = sapi_game['gameData']['teams']['away']['abbreviation']\n",
    "    home_team = sapi_game['gameData']['teams']['home']['abbreviation']\n",
    "\n",
    "    #away player info\n",
    "    away_players = sapi_game['liveData']['boxscore']['teams']['away']['players']\n",
    "    away_ids = []\n",
    "    away_names = []\n",
    "    away_bo = []\n",
    "    away_position = []\n",
    "    for player in away_players.keys():\n",
    "        player_id = away_players[player]['person']['id']\n",
    "        away_ids.append(player_id)\n",
    "        if player_id in pinged_players:\n",
    "            player_info = pinged_players[player_id]\n",
    "        else:\n",
    "            player_info = statsapi.get('person', {'personId': player_id})['people'][0]\n",
    "            pinged_players.update({player_id: player_info})\n",
    "        away_names.append(player_info['fullName'])\n",
    "        away_position.append(player_info['primaryPosition']['type'])\n",
    "        if 'battingOrder' in away_players[player].keys():\n",
    "            away_bo.append(away_players[player]['battingOrder'])\n",
    "        else:\n",
    "            away_bo.append(None)\n",
    "    roster_infoa = pd.DataFrame({'player_id': away_ids, 'player_name': away_names, 'batting_order': away_bo, 'position': away_position})\n",
    "    roster_infoa['team'] = away_team\n",
    "\n",
    "    #home player info\n",
    "    home_players = sapi_game['liveData']['boxscore']['teams']['home']['players']\n",
    "    home_ids = []\n",
    "    home_names = []\n",
    "    home_bo = []\n",
    "    home_position = []\n",
    "    for player in home_players.keys():\n",
    "        player_id = home_players[player]['person']['id']\n",
    "        home_ids.append(player_id)\n",
    "        if player_id in pinged_players:\n",
    "            player_info = pinged_players[player_id]\n",
    "        else:\n",
    "            player_info = statsapi.get('person', {'personId': player_id})['people'][0]\n",
    "            pinged_players.update({player_id: player_info})\n",
    "        home_names.append(player_info['fullName'])\n",
    "        home_position.append(player_info['primaryPosition']['type'])\n",
    "        if 'battingOrder' in home_players[player].keys():\n",
    "            home_bo.append(home_players[player]['battingOrder'])\n",
    "        else:\n",
    "            home_bo.append(None)\n",
    "    roster_infoh = pd.DataFrame({'player_id': home_ids, 'player_name': home_names, 'batting_order': home_bo, 'position': home_position})\n",
    "    roster_infoh['team'] = home_team\n",
    "    roster_info = pd.concat((roster_infoa, roster_infoh))\n",
    "    roster_info['game_pk'] = gamepk\n",
    "    roster_info['game_date'] = game_date\n",
    "    roster_info['game_home_team'] = home_team\n",
    "    roster_info['game_away_team'] = away_team\n",
    "    return roster_info\n",
    "\n",
    "ri = pd.DataFrame()\n",
    "bench_size = 4\n",
    "bp_size = 9\n",
    "for game in tqdm.tqdm(gamepks):\n",
    "    roster_info = get_roster_info(game)\n",
    "    if roster_info.shape[0] == 0:\n",
    "        continue\n",
    "    teams = roster_info.team.unique()\n",
    "    team1 = roster_info.loc[roster_info.team == teams[0]]\n",
    "    team1p = team1.loc[team1.position.isin(['Two-Way Player', 'Pitcher'])].player_id.unique().size\n",
    "    team1pp = team1.loc[team1.position != 'Pitcher'].player_id.unique().size\n",
    "    team2 = roster_info.loc[roster_info.team == teams[1]]\n",
    "    team2p = team2.loc[team2.position.isin(['Two-Way Player', 'Pitcher'])].player_id.unique().size\n",
    "    team2pp = team2.loc[team2.position != 'Pitcher'].player_id.unique().size\n",
    "    if team2p-1 > bp_size:\n",
    "        bp_size = team2p - 1\n",
    "    if team1p-1 > bp_size:\n",
    "        bp_size = team1p - 1\n",
    "    if team1pp-9 > bench_size:\n",
    "        bench_size = team1pp - 9\n",
    "    if team2pp - 9> bench_size:\n",
    "        bench_size = team2pp - 9\n",
    "    ri = pd.concat((ri, roster_info),ignore_index = True)"
   ]
  },
  {
   "cell_type": "code",
   "execution_count": 6,
   "metadata": {},
   "outputs": [],
   "source": [
    "ri.to_csv('roster_info.csv', index = False)"
   ]
  },
  {
   "cell_type": "code",
   "execution_count": 7,
   "metadata": {},
   "outputs": [
    {
     "data": {
      "text/plain": [
       "(6, 15)"
      ]
     },
     "execution_count": 7,
     "metadata": {},
     "output_type": "execute_result"
    }
   ],
   "source": [
    "bench_size, bp_size"
   ]
  },
  {
   "cell_type": "code",
   "execution_count": null,
   "metadata": {},
   "outputs": [],
   "source": []
  }
 ],
 "metadata": {
  "kernelspec": {
   "display_name": "Python 3",
   "language": "python",
   "name": "python3"
  },
  "language_info": {
   "codemirror_mode": {
    "name": "ipython",
    "version": 3
   },
   "file_extension": ".py",
   "mimetype": "text/x-python",
   "name": "python",
   "nbconvert_exporter": "python",
   "pygments_lexer": "ipython3",
   "version": "3.8.5"
  }
 },
 "nbformat": 4,
 "nbformat_minor": 4
}
